{
 "cells": [
  {
   "cell_type": "markdown",
   "metadata": {},
   "source": [
    "Cho một list các số nguyên num_list và một sliding window có kích thước size k di\n",
    "chuyển từ trái sang phải. Mỗi lần dịch chuyển 1 vị trí sang phải có thể nhìn thấy\n",
    "đươc k số trong num_list và tìm số lớn nhất trong k số này sau mỗi lần trượt k phải\n",
    "lớn hơn hoặc bằng 1"
   ]
  },
  {
   "cell_type": "code",
   "execution_count": 5,
   "metadata": {},
   "outputs": [
    {
     "name": "stdout",
     "output_type": "stream",
     "text": [
      "[5, 5, 5, 5, 10, 12, 33, 33]\n"
     ]
    }
   ],
   "source": [
    "## Find max number\n",
    "def find_max(window):\n",
    "    max = window[0]\n",
    "    for i in window:\n",
    "        if i > max:\n",
    "            max = i\n",
    "    return max\n",
    "\n",
    "# Find max number for each window\n",
    "def max_window(list_of_number, window):\n",
    "    len_of_list = len(list_of_number)\n",
    "    res = []\n",
    "    for i in range(0, len_of_list - window + 1):\n",
    "        max = find_max(list_of_number[i:i+window:])\n",
    "        res.append(max)\n",
    "    \n",
    "    return res\n",
    "\n",
    "num_list = [3, 4, 5, 1, -44 , 5 ,10, 12 ,33, 1]\n",
    "k=3\n",
    "res = max_window(num_list, k)\n",
    "print(res)"
   ]
  },
  {
   "cell_type": "code",
   "execution_count": null,
   "metadata": {},
   "outputs": [],
   "source": []
  }
 ],
 "metadata": {
  "kernelspec": {
   "display_name": "anhHop",
   "language": "python",
   "name": "python3"
  },
  "language_info": {
   "codemirror_mode": {
    "name": "ipython",
    "version": 3
   },
   "file_extension": ".py",
   "mimetype": "text/x-python",
   "name": "python",
   "nbconvert_exporter": "python",
   "pygments_lexer": "ipython3",
   "version": "3.11.5"
  }
 },
 "nbformat": 4,
 "nbformat_minor": 2
}
