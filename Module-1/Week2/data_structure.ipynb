{
 "cells": [
  {
   "cell_type": "markdown",
   "metadata": {},
   "source": [
    "Cho một list các số nguyên num_list và một sliding window có kích thước size k di\n",
    "chuyển từ trái sang phải. Mỗi lần dịch chuyển 1 vị trí sang phải có thể nhìn thấy\n",
    "đươc k số trong num_list và tìm số lớn nhất trong k số này sau mỗi lần trượt k phải\n",
    "lớn hơn hoặc bằng 1"
   ]
  },
  {
   "cell_type": "code",
   "execution_count": 22,
   "metadata": {},
   "outputs": [
    {
     "name": "stdout",
     "output_type": "stream",
     "text": [
      "[5, 5, 5, 5, 10, 12, 33, 33]\n"
     ]
    }
   ],
   "source": [
    "## Find max number\n",
    "def find_max(window):\n",
    "    max = window[0]\n",
    "    for i in window:\n",
    "        if i > max:\n",
    "            max = i\n",
    "    return max\n",
    "\n",
    "# Find max number for each window\n",
    "def max_window(list_of_number, window):\n",
    "    len_of_list = len(list_of_number)\n",
    "    res = []\n",
    "    for i in range(0, len_of_list - window + 1):\n",
    "        max = find_max(list_of_number[i:i+window:])\n",
    "        res.append(max)\n",
    "    \n",
    "    return res\n",
    "\n",
    "num_list = [3, 4, 5, 1, -44 , 5 ,10, 12 ,33, 1]\n",
    "k=3\n",
    "res = max_window(num_list, k)\n",
    "print(res)"
   ]
  },
  {
   "cell_type": "markdown",
   "metadata": {},
   "source": [
    "Viết function trả về một dictionary đếm số lượng chữ xuất hiện trong một từ, với key là chữ cái\n",
    "và value là số lần xuất hiện\n"
   ]
  },
  {
   "cell_type": "code",
   "execution_count": 23,
   "metadata": {},
   "outputs": [
    {
     "data": {
      "text/plain": [
       "{'H': 1, 'a': 1, 'e': 1, 'i': 1, 'n': 1, 'p': 2, 's': 2}"
      ]
     },
     "execution_count": 23,
     "metadata": {},
     "output_type": "execute_result"
    }
   ],
   "source": [
    "# Sort the list in alphabetic order\n",
    "def sort_alphabet(target):\n",
    "    for i in range(len(target)):\n",
    "        for j in range(len(target)):\n",
    "            if target[i] < target[j]:\n",
    "                temp = target[i]\n",
    "                target[i] = target[j]\n",
    "                target[j] = temp\n",
    "    \n",
    "    return target\n",
    "\n",
    "# Dictionay for occurences of character\n",
    "def count_char(string):\n",
    "    a = list(string)\n",
    "    sort_alphabet(a)\n",
    "    my_dict = dict.fromkeys(a, 0)\n",
    "\n",
    "    for i in a:\n",
    "        my_dict[i] += 1\n",
    "    \n",
    "    return my_dict\n",
    "\n",
    "string = \"Happiness\"\n",
    "res = count_char(string)\n",
    "res"
   ]
  },
  {
   "cell_type": "code",
   "execution_count": 24,
   "metadata": {},
   "outputs": [
    {
     "data": {
      "text/plain": [
       "{'e': 1, 'i': 1, 'l': 1, 'm': 1, 's': 2}"
      ]
     },
     "execution_count": 24,
     "metadata": {},
     "output_type": "execute_result"
    }
   ],
   "source": [
    "string = 'smiles'\n",
    "res = count_char(string)\n",
    "res"
   ]
  },
  {
   "cell_type": "markdown",
   "metadata": {},
   "source": [
    "Viết function đọc các câu trong một file txt, đếm số lượng các từ xuất hiện và trả về một dictionary\n",
    "với key là từ và value là số lần từ đó xuất hiện."
   ]
  },
  {
   "cell_type": "code",
   "execution_count": 45,
   "metadata": {},
   "outputs": [
    {
     "data": {
      "text/plain": [
       "{'a': 6,\n",
       " 'again': 1,\n",
       " 'and': 1,\n",
       " 'are': 1,\n",
       " 'at': 1,\n",
       " 'be': 1,\n",
       " 'become': 2,\n",
       " 'bricks': 1,\n",
       " 'busy': 1,\n",
       " 'but': 1,\n",
       " 'came': 1,\n",
       " 'can': 3,\n",
       " 'cannot': 1,\n",
       " 'change': 1,\n",
       " 'comes': 2,\n",
       " 'conquers': 1,\n",
       " 'courage': 1,\n",
       " 'day': 1,\n",
       " 'different': 1,\n",
       " 'employed': 1,\n",
       " 'enough': 1,\n",
       " 'everything': 1,\n",
       " 'firm': 1,\n",
       " 'for': 3,\n",
       " 'foundation': 1,\n",
       " 'from': 1,\n",
       " 'get': 2,\n",
       " 'have': 1,\n",
       " 'help': 1,\n",
       " 'him': 1,\n",
       " 'himself': 1,\n",
       " 'his': 2,\n",
       " 'if': 1,\n",
       " 'in': 4,\n",
       " 'is': 3,\n",
       " 'it': 2,\n",
       " 'just': 1,\n",
       " 'kind': 1,\n",
       " 'lay': 1,\n",
       " 'life': 2,\n",
       " 'looking': 1,\n",
       " 'majority': 1,\n",
       " 'makes': 1,\n",
       " 'man': 6,\n",
       " 'mightiest': 1,\n",
       " 'mistakes': 1,\n",
       " 'morning': 1,\n",
       " 'not': 1,\n",
       " 'of': 4,\n",
       " 'one': 2,\n",
       " 'opportunity': 1,\n",
       " 'other': 1,\n",
       " 'others': 1,\n",
       " 'people': 1,\n",
       " 'positive': 1,\n",
       " 'problems': 1,\n",
       " 'profit': 1,\n",
       " 'rather': 1,\n",
       " 'ready': 1,\n",
       " 'secret': 1,\n",
       " 'small': 1,\n",
       " 'solve': 1,\n",
       " 'success': 2,\n",
       " 'successful': 2,\n",
       " 'the': 4,\n",
       " 'them': 1,\n",
       " 'they': 1,\n",
       " 'thinking': 1,\n",
       " 'those': 1,\n",
       " 'thought': 1,\n",
       " 'thrown': 1,\n",
       " 'to': 3,\n",
       " 'too': 1,\n",
       " 'try': 1,\n",
       " 'up': 1,\n",
       " 'usually': 1,\n",
       " 'value': 1,\n",
       " 'want': 2,\n",
       " 'warrior': 1,\n",
       " 'way': 1,\n",
       " 'we': 2,\n",
       " 'what': 1,\n",
       " 'when': 2,\n",
       " 'who': 3,\n",
       " 'whole': 1,\n",
       " 'will': 2,\n",
       " 'with': 4,\n",
       " 'you': 2,\n",
       " 'your': 1,\n",
       " 'A': 1,\n",
       " 'He': 1,\n",
       " 'Just': 1,\n",
       " 'One': 2,\n",
       " 'Success': 1,\n",
       " 'The': 1,\n",
       " 'Try': 1,\n",
       " 'We': 1,\n",
       " 'You': 1}"
      ]
     },
     "execution_count": 45,
     "metadata": {},
     "output_type": "execute_result"
    }
   ],
   "source": [
    "# Create dictionary for word occurences\n",
    "def word_count(path_to_text):\n",
    "    words = []\n",
    "    with open(path_to_text) as file:\n",
    "        for line in file:\n",
    "            line = line.rstrip('\\n')\n",
    "            word_in_line = line.split(' ')\n",
    "            for word in word_in_line:\n",
    "                words.append(word)\n",
    "    \n",
    "    words.sort(key=str.swapcase)\n",
    "    my_dict = dict.fromkeys(words, 0)\n",
    "    for word in words:\n",
    "        my_dict[word] += 1\n",
    "    \n",
    "    return my_dict\n",
    "\n",
    "word_count('P1_data.txt')\n",
    "    "
   ]
  },
  {
   "cell_type": "markdown",
   "metadata": {},
   "source": [
    "Viết chương trình tính khoảng cách chỉnh sửa tối thiểu Levenshtein. Khoảng cách Levenshtein thể\n",
    "hiện khoảng cách khác biệt giữa 2 chuỗi ký tự"
   ]
  },
  {
   "cell_type": "code",
   "execution_count": null,
   "metadata": {},
   "outputs": [],
   "source": [
    "S = \"kitten\"\n",
    "T = \"sitting\"\n",
    "\n",
    "len_of_s = len(S)\n",
    "len_of_t = len(T)"
   ]
  },
  {
   "cell_type": "code",
   "execution_count": 102,
   "metadata": {},
   "outputs": [],
   "source": [
    "import numpy as np\n",
    "\n",
    "def find_min_of_three(a, b, c):\n",
    "    min = a\n",
    "    if a > b:\n",
    "        min = b\n",
    "    if b > c:\n",
    "        min = c\n",
    "    \n",
    "    return min\n",
    "\n",
    "def levenshtein_distance(string_s, string_t):\n",
    "    len_of_s = len(string_s)\n",
    "    len_of_t = len(string_t)\n",
    "    list_of_s = list(string_s)\n",
    "    list_of_t = list(string_t)\n",
    "    mat = np.zeros((len_of_s+1, len_of_t+1), dtype=int)\n",
    "\n",
    "    for i in range(0, len_of_s+1):\n",
    "        mat[i, 0] = i\n",
    "    for j in range(0, len_of_t+1):\n",
    "        mat[0, j] = j\n",
    "    \n",
    "    for i in range(1, len_of_s+1):\n",
    "        for j in range(1, len_of_t+1):\n",
    "            min_val = find_min_of_three(mat[i-1, j-1], mat[i-1, j], mat[i, j - 1])\n",
    "            if list_of_s[i-1] != list_of_t[j-1]:\n",
    "                min_val += 1\n",
    "            mat[i, j] = min_val\n",
    "    \n",
    "    return mat[len_of_s, len_of_t]\n"
   ]
  },
  {
   "cell_type": "code",
   "execution_count": 103,
   "metadata": {},
   "outputs": [
    {
     "data": {
      "text/plain": [
       "1"
      ]
     },
     "execution_count": 103,
     "metadata": {},
     "output_type": "execute_result"
    }
   ],
   "source": [
    "S = \"yu\"\n",
    "T = \"you\"\n",
    "levenshtein_distance(S, T)"
   ]
  },
  {
   "cell_type": "code",
   "execution_count": 104,
   "metadata": {},
   "outputs": [
    {
     "data": {
      "text/plain": [
       "5"
      ]
     },
     "execution_count": 104,
     "metadata": {},
     "output_type": "execute_result"
    }
   ],
   "source": [
    "S = \"benyam\"\n",
    "T = \"ephrem\"\n",
    "levenshtein_distance(S, T)"
   ]
  },
  {
   "cell_type": "markdown",
   "metadata": {},
   "source": [
    "Câu hỏi 1:(Code) Hoàn thành chương trình sau với mô tả bài toán từ câu I.1. Đầu ra của chương trình\n",
    "dưới đây là gì?"
   ]
  },
  {
   "cell_type": "code",
   "execution_count": 93,
   "metadata": {},
   "outputs": [
    {
     "name": "stdout",
     "output_type": "stream",
     "text": [
      "[5, 5, 5, 5, 10, 12, 33, 33]\n"
     ]
    }
   ],
   "source": [
    "def max_kernel ( num_list , k ) :\n",
    "    result = []\n",
    "    result = max_window(num_list, k)\n",
    "\n",
    "    return result\n",
    "\n",
    "assert max_kernel ([3 , 4 , 5 , 1 , -44] , 3) == [5 , 5 , 5]\n",
    "num_list = [3 , 4 , 5 , 1 , -44 , 5 ,10 , 12 ,33 , 1]\n",
    "k = 3\n",
    "print ( max_kernel ( num_list , k ) )"
   ]
  },
  {
   "cell_type": "markdown",
   "metadata": {},
   "source": [
    "==> A"
   ]
  },
  {
   "cell_type": "markdown",
   "metadata": {},
   "source": [
    "Câu hỏi 2:(Code) Hoàn thành chương trình sau với mô tả bài toán từ câu I.2. Đầu ra của chương trình\n",
    "dưới đây là gì?\n"
   ]
  },
  {
   "cell_type": "code",
   "execution_count": 109,
   "metadata": {},
   "outputs": [
    {
     "name": "stdout",
     "output_type": "stream",
     "text": [
      "{'e': 1, 'i': 1, 'l': 1, 'm': 1, 's': 2}\n"
     ]
    }
   ],
   "source": [
    "def character_count ( word ) :\n",
    "    character_statistic = {}\n",
    "    character_statistic = count_char(word)\n",
    "    return character_statistic\n",
    "\n",
    "assert character_count (\"Baby\") == {'B': 1 , 'a': 1 , 'b': 1 , 'y': 1}\n",
    "print ( character_count ('smiles') )\n"
   ]
  },
  {
   "cell_type": "markdown",
   "metadata": {},
   "source": [
    "==> A"
   ]
  },
  {
   "cell_type": "markdown",
   "metadata": {},
   "source": [
    "Câu hỏi 3:(Code) Hoàn thành chương trình sau với mô tả bài toán từ câu I.3. Đầu ra của chương trình\n",
    "dưới đây là gì?\n"
   ]
  },
  {
   "cell_type": "code",
   "execution_count": 101,
   "metadata": {},
   "outputs": [
    {
     "name": "stdout",
     "output_type": "stream",
     "text": [
      "6\n"
     ]
    }
   ],
   "source": [
    "def count_word ( file_path ) :\n",
    "    counter = {}\n",
    "    counter = word_count(file_path)\n",
    "    return counter\n",
    "file_path = 'P1_data.txt'\n",
    "result = count_word ( file_path )\n",
    "assert result ['who'] == 3\n",
    "print ( result ['man'])"
   ]
  },
  {
   "cell_type": "markdown",
   "metadata": {},
   "source": [
    "==> C"
   ]
  },
  {
   "cell_type": "markdown",
   "metadata": {},
   "source": [
    "Câu hỏi 4:(Code) Hoàn thành chương trình sau với mô tả bài toán từ câu I.4. Đầu ra của chương trình\n",
    "dưới đây là gì?"
   ]
  },
  {
   "cell_type": "code",
   "execution_count": 107,
   "metadata": {},
   "outputs": [
    {
     "name": "stdout",
     "output_type": "stream",
     "text": [
      "2\n"
     ]
    }
   ],
   "source": [
    "\n",
    "assert levenshtein_distance (\"hi\", \"hello\") == 4.0\n",
    "print ( levenshtein_distance (\"hola\", \"hello\") )"
   ]
  },
  {
   "cell_type": "markdown",
   "metadata": {},
   "source": [
    "==> B"
   ]
  },
  {
   "cell_type": "markdown",
   "metadata": {},
   "source": [
    "Câu hỏi 5:(Code) Hoàn thành chương trình sau. Đầu ra của chương trình dưới đây là gì?\n"
   ]
  },
  {
   "cell_type": "code",
   "execution_count": 113,
   "metadata": {},
   "outputs": [
    {
     "name": "stdout",
     "output_type": "stream",
     "text": [
      "True\n"
     ]
    }
   ],
   "source": [
    "def check_the_number ( N ) :\n",
    "    list_of_numbers = []\n",
    "    result = \"\"\n",
    "    for i in range (1 , 5) :\n",
    "       list_of_numbers.append(i)\n",
    "\n",
    "    if N in list_of_numbers :\n",
    "        results = \"True\"\n",
    "    if N not in list_of_numbers :\n",
    "        results = \"False\"\n",
    "    return results\n",
    "\n",
    "N = 7\n",
    "assert check_the_number (N) == \"False\"\n",
    "N = 2\n",
    "results = check_the_number (N)\n",
    "print (results)\n"
   ]
  },
  {
   "cell_type": "markdown",
   "metadata": {},
   "source": [
    "==> A"
   ]
  },
  {
   "cell_type": "markdown",
   "metadata": {},
   "source": [
    "Câu hỏi 6:(Code) Hãy hoàn thành chương trình dưới đây. Đầu ra của chương trình là gì?"
   ]
  },
  {
   "cell_type": "code",
   "execution_count": 146,
   "metadata": {},
   "outputs": [
    {
     "name": "stdout",
     "output_type": "stream",
     "text": [
      "[2, 2, 2, 1, 1]\n"
     ]
    }
   ],
   "source": [
    "def my_function(data , max , min) :\n",
    "    result = []\n",
    "    for i in data :\n",
    "        if i < min:\n",
    "            result.append(min)\n",
    "        elif i > max :\n",
    "            result.append(max)\n",
    "        else:\n",
    "            result.append(i)\n",
    "    return result\n",
    "    \n",
    "my_list = [5 , 2 , 5 , 0 , 1]\n",
    "max = 1\n",
    "min = 0\n",
    "assert my_function(max = max , min = min , data = my_list) == [1 , 1 , 1 , 0 , 1]\n",
    "my_list = [10 , 2 , 5 , 0 , 1]\n",
    "max = 2\n",
    "min = 1\n",
    "print(my_function(max = max , min = min , data = my_list))\n"
   ]
  },
  {
   "cell_type": "markdown",
   "metadata": {},
   "source": [
    "==> C"
   ]
  },
  {
   "cell_type": "markdown",
   "metadata": {},
   "source": [
    "Câu hỏi 7:(code) Hãy hoàn thành chương trình dưới đây. Đầu ra của chương trình là gì?"
   ]
  },
  {
   "cell_type": "code",
   "execution_count": 116,
   "metadata": {},
   "outputs": [
    {
     "name": "stdout",
     "output_type": "stream",
     "text": [
      "[1, 2, 3, 4, 0, 0]\n"
     ]
    }
   ],
   "source": [
    "def my_function (x , y ) :\n",
    "\n",
    "   x.extend(y)\n",
    "\n",
    "   return x\n",
    "\n",
    "list_num1 = ['a', 2 , 5]\n",
    "list_num2 = [1 , 1]\n",
    "list_num3 = [0 , 0]\n",
    "\n",
    "assert my_function (list_num1, my_function(list_num2 , list_num3)) == ['a', 2 , 5 , 1 , 1 ,0 , 0]\n",
    "\n",
    "list_num1 = [1 , 2]\n",
    "list_num2 = [3 , 4]\n",
    "list_num3 = [0 , 0]\n",
    "\n",
    "print(my_function(list_num1, my_function(list_num2, list_num3)))"
   ]
  },
  {
   "cell_type": "markdown",
   "metadata": {},
   "source": [
    "==> A"
   ]
  },
  {
   "cell_type": "markdown",
   "metadata": {},
   "source": [
    "Câu hỏi 8:(code) Hãy hoàn thành chương trình tìm phần tử có giá trị nhỏ nhất trong một list dưới\n",
    "đây. Đầu ra của chương trình là gì?\n"
   ]
  },
  {
   "cell_type": "code",
   "execution_count": 117,
   "metadata": {},
   "outputs": [
    {
     "name": "stdout",
     "output_type": "stream",
     "text": [
      "-1\n"
     ]
    }
   ],
   "source": [
    "def my_function(n) :\n",
    "# Your code here\n",
    "    min = n[0]\n",
    "    for i in n:\n",
    "        if i < min:\n",
    "            min = i\n",
    "    return min\n",
    "\n",
    "my_list = [1 , 22 , 93 , -100]\n",
    "assert my_function(my_list) == -100\n",
    "my_list = [1 , 2 , 3 , -1]\n",
    "print(my_function(my_list))"
   ]
  },
  {
   "cell_type": "markdown",
   "metadata": {},
   "source": [
    "==> C"
   ]
  },
  {
   "cell_type": "markdown",
   "metadata": {},
   "source": [
    "Câu hỏi 9:(code) Hãy hoàn thành chương trình tìm phần tử có giá trị lớn nhất trong một list dưới\n",
    "đây. Đầu ra của chương trình là gì?\n"
   ]
  },
  {
   "cell_type": "code",
   "execution_count": 118,
   "metadata": {},
   "outputs": [
    {
     "name": "stdout",
     "output_type": "stream",
     "text": [
      "9\n"
     ]
    }
   ],
   "source": [
    "def my_function(n) :\n",
    " \n",
    "    max = n[0]\n",
    "    for i in n:\n",
    "        if i > max:\n",
    "            max = i\n",
    "    return max\n",
    "\n",
    "my_list = [1001 , 9 , 100 , 0]\n",
    "assert my_function(my_list) == 1001\n",
    "\n",
    "my_list = [1 , 9 , 9 , 0]\n",
    "print(my_function(my_list))\n"
   ]
  },
  {
   "cell_type": "code",
   "execution_count": null,
   "metadata": {},
   "outputs": [],
   "source": [
    "def yay(a, b):\n",
    "    pass"
   ]
  },
  {
   "cell_type": "markdown",
   "metadata": {},
   "source": [
    "==> D"
   ]
  },
  {
   "cell_type": "markdown",
   "metadata": {},
   "source": [
    "Câu hỏi 10:(code) Hãy hoàn thành chương trình dưới đây. Đầu ra của chương trình là gì?\n"
   ]
  },
  {
   "cell_type": "code",
   "execution_count": 120,
   "metadata": {},
   "outputs": [
    {
     "name": "stdout",
     "output_type": "stream",
     "text": [
      "True\n"
     ]
    }
   ],
   "source": [
    "def My_function (integers, number = 1) :\n",
    "    return any(True if integer == number else False for integer in integers)\n",
    "\n",
    "my_list = [1 , 3 , 9 , 4]\n",
    "assert My_function(my_list , -1) == False\n",
    "\n",
    "my_list = [1 , 2 , 3 , 4]\n",
    "print(My_function(my_list, 2)) \n"
   ]
  },
  {
   "cell_type": "markdown",
   "metadata": {},
   "source": [
    "==> C"
   ]
  },
  {
   "cell_type": "markdown",
   "metadata": {},
   "source": [
    "Câu hỏi 11:(code) Hãy hoàn thành chương trình dưới đây. Đầu ra của chương trình là gì?"
   ]
  },
  {
   "cell_type": "code",
   "execution_count": 121,
   "metadata": {},
   "outputs": [
    {
     "name": "stdout",
     "output_type": "stream",
     "text": [
      "1.0\n"
     ]
    }
   ],
   "source": [
    "def my_function(list_nums = [0 , 1 , 2]) :\n",
    "    var = 0\n",
    "    for i in list_nums :\n",
    "        var += i\n",
    "    return var/len(list_nums)\n",
    "\n",
    "assert my_function([4 , 6 , 8]) == 6\n",
    "print(my_function())\n"
   ]
  },
  {
   "cell_type": "markdown",
   "metadata": {},
   "source": [
    "==> A"
   ]
  },
  {
   "cell_type": "code",
   "execution_count": 122,
   "metadata": {},
   "outputs": [
    {
     "name": "stdout",
     "output_type": "stream",
     "text": [
      "[3, 6]\n"
     ]
    }
   ],
   "source": [
    "def my_function(data) :\n",
    "    var = []\n",
    "    for i in data :\n",
    "       if i % 3 == 0:\n",
    "           var.append(i)\n",
    "    return var\n",
    "\n",
    "assert my_function([3 , 9 , 4 , 5]) == [3 , 9]\n",
    "print(my_function([1 , 2 , 3 , 5 , 6]))\n"
   ]
  },
  {
   "cell_type": "markdown",
   "metadata": {},
   "source": [
    "==> A"
   ]
  },
  {
   "cell_type": "markdown",
   "metadata": {},
   "source": [
    "Câu hỏi 13:(code) Hãy hoàn thành chương trình sau đây thực hiện tính giai thừa của 1 số. Đầu ra\n",
    "của chương trình dưới đây là gì?"
   ]
  },
  {
   "cell_type": "code",
   "execution_count": 126,
   "metadata": {},
   "outputs": [
    {
     "name": "stdout",
     "output_type": "stream",
     "text": [
      "24\n"
     ]
    }
   ],
   "source": [
    "def my_function(y) :\n",
    "    var = 1\n",
    "    while (y > 1):\n",
    "        var *= y\n",
    "        y -= 1\n",
    "    return var\n",
    "\n",
    "assert my_function(8) == 40320\n",
    "print(my_function(4))\n",
    "\n"
   ]
  },
  {
   "cell_type": "markdown",
   "metadata": {},
   "source": [
    "==> C"
   ]
  },
  {
   "cell_type": "markdown",
   "metadata": {},
   "source": [
    "Câu hỏi 14:(code) Hãy hoàn thành chương trình đảo ngược chuỗi dưới đây. Đầu ra của chương trình\n",
    "là gì?\n"
   ]
  },
  {
   "cell_type": "code",
   "execution_count": 136,
   "metadata": {},
   "outputs": [
    {
     "name": "stdout",
     "output_type": "stream",
     "text": [
      "tocirpa\n"
     ]
    }
   ],
   "source": [
    "def my_function (x) :\n",
    "\n",
    "    return x[::-1]\n",
    "\n",
    "x = 'I can do it'\n",
    "assert my_function(x) == 'ti od nac I'\n",
    "x = 'apricot'\n",
    "print (my_function(x))\n"
   ]
  },
  {
   "cell_type": "markdown",
   "metadata": {},
   "source": [
    "==> B"
   ]
  },
  {
   "cell_type": "markdown",
   "metadata": {},
   "source": [
    "Câu hỏi 15:(code) Hãy hoàn thành chương trình dưới đây. Đầu ra của chương trình là gì?\n"
   ]
  },
  {
   "cell_type": "code",
   "execution_count": 137,
   "metadata": {},
   "outputs": [
    {
     "name": "stdout",
     "output_type": "stream",
     "text": [
      "['T', 'T', 'T', 'N']\n"
     ]
    }
   ],
   "source": [
    "def function_helper(x) :\n",
    "\n",
    "    if x > 0:\n",
    "        return 'T'\n",
    "    return 'N'\n",
    "\n",
    "def my_function(data):\n",
    "    res = [function_helper(x) for x in data]\n",
    "    return res\n",
    "\n",
    "data = [10 , 0 , -10 , -1]\n",
    "assert my_function(data) == ['T', 'N', 'N', 'N']\n",
    "\n",
    "data = [2 , 3 , 5 , -1]\n",
    "print (my_function(data))\n"
   ]
  },
  {
   "cell_type": "markdown",
   "metadata": {},
   "source": [
    "=> C"
   ]
  },
  {
   "cell_type": "markdown",
   "metadata": {},
   "source": [
    "Câu hỏi 16:(code) Hãy hoàn thành chương trình dưới đây để loại bỏ những phần tử trùng nhau. Đầu\n",
    "ra của chương trình là gì?\n"
   ]
  },
  {
   "cell_type": "code",
   "execution_count": 138,
   "metadata": {},
   "outputs": [
    {
     "name": "stdout",
     "output_type": "stream",
     "text": [
      "[9, 8, 1]\n"
     ]
    }
   ],
   "source": [
    "def function_helper(x, data) :\n",
    "    for i in data :\n",
    "        if x == i:\n",
    "            return 0\n",
    "    return 1\n",
    "\n",
    "def my_function (data) :\n",
    "    res = []\n",
    "    for i in data :\n",
    "        if function_helper (i, res) :\n",
    "            res.append (i)\n",
    "\n",
    "    return res\n",
    "\n",
    "lst = [10 , 10 , 9 , 7 , 7]\n",
    "assert my_function (lst) == [10 , 9 , 7]\n",
    "\n",
    "lst = [9 , 9 , 8 , 1 , 1]\n",
    "print (my_function (lst))"
   ]
  },
  {
   "cell_type": "markdown",
   "metadata": {},
   "source": [
    "==> A"
   ]
  },
  {
   "cell_type": "markdown",
   "metadata": {},
   "source": []
  }
 ],
 "metadata": {
  "kernelspec": {
   "display_name": "anhHop",
   "language": "python",
   "name": "python3"
  },
  "language_info": {
   "codemirror_mode": {
    "name": "ipython",
    "version": 3
   },
   "file_extension": ".py",
   "mimetype": "text/x-python",
   "name": "python",
   "nbconvert_exporter": "python",
   "pygments_lexer": "ipython3",
   "version": "3.11.5"
  }
 },
 "nbformat": 4,
 "nbformat_minor": 2
}
