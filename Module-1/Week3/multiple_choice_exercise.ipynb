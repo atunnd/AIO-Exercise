{
 "cells": [
  {
   "cell_type": "code",
   "execution_count": null,
   "metadata": {},
   "outputs": [],
   "source": []
  },
  {
   "cell_type": "markdown",
   "metadata": {},
   "source": [
    "Câu hỏi 1: Kết quả của đoạn code dưới đây là bao nhiêu."
   ]
  },
  {
   "cell_type": "code",
   "execution_count": 1,
   "metadata": {},
   "outputs": [
    {
     "data": {
      "text/plain": [
       "tensor([0.0900, 0.2447, 0.6652])"
      ]
     },
     "execution_count": 1,
     "metadata": {},
     "output_type": "execute_result"
    }
   ],
   "source": [
    "import torch\n",
    "import torch.nn as nn\n",
    "\n",
    "data = torch.Tensor ([1, 2, 3])\n",
    "softmax_function = nn.Softmax(dim =0)\n",
    "output = softmax_function(data)\n",
    "assert round ( output[0].item(), 2) == 0.09\n",
    "output"
   ]
  },
  {
   "cell_type": "markdown",
   "metadata": {},
   "source": [
    "==> C"
   ]
  },
  {
   "cell_type": "markdown",
   "metadata": {},
   "source": [
    "Câu hỏi 2: Hoàn thành đoạn code sau đây theo công thức tính softmax."
   ]
  },
  {
   "cell_type": "code",
   "execution_count": 4,
   "metadata": {},
   "outputs": [
    {
     "data": {
      "text/plain": [
       "tensor([0.7054, 0.0351, 0.2595])"
      ]
     },
     "execution_count": 4,
     "metadata": {},
     "output_type": "execute_result"
    }
   ],
   "source": [
    "class MySoftmax(nn.Module):\n",
    "    def __init__(self):\n",
    "        super().__init__()\n",
    "    \n",
    "    def forward(self, x):\n",
    "        x_exp = torch.exp(x)\n",
    "        total = x_exp.sum(0, keepdims=True)\n",
    "\n",
    "        return x_exp/total\n",
    "data = torch.Tensor ([5 , 2 , 4])\n",
    "my_softmax = MySoftmax()\n",
    "output = my_softmax ( data )\n",
    "assert round (output[-1].item(), 2) == 0.26\n",
    "output"
   ]
  },
  {
   "cell_type": "markdown",
   "metadata": {},
   "source": [
    "==> B"
   ]
  },
  {
   "cell_type": "markdown",
   "metadata": {},
   "source": [
    "Câu hỏi 3: Hoàn thành đoạn code sau đây theo công thức tính softmax."
   ]
  },
  {
   "cell_type": "code",
   "execution_count": 5,
   "metadata": {},
   "outputs": [
    {
     "data": {
      "text/plain": [
       "tensor([0., 0., nan])"
      ]
     },
     "execution_count": 5,
     "metadata": {},
     "output_type": "execute_result"
    }
   ],
   "source": [
    "data = torch.Tensor([1 , 2 , 300000000])\n",
    "my_softmax = MySoftmax()\n",
    "output = my_softmax(data)\n",
    "assert round (output[0].item(), 2) == 0.0\n",
    "output"
   ]
  },
  {
   "cell_type": "markdown",
   "metadata": {},
   "source": [
    "==> C"
   ]
  },
  {
   "cell_type": "markdown",
   "metadata": {},
   "source": [
    "Câu hỏi 4: Hoàn thành đoạn code sau đây theo công thức tính stable softmax."
   ]
  },
  {
   "cell_type": "code",
   "execution_count": 6,
   "metadata": {},
   "outputs": [
    {
     "data": {
      "text/plain": [
       "tensor([0.0900, 0.2447, 0.6652])"
      ]
     },
     "execution_count": 6,
     "metadata": {},
     "output_type": "execute_result"
    }
   ],
   "source": [
    "import torch\n",
    "import torch . nn as nn\n",
    "\n",
    "class SoftmaxStable ( nn . Module ):\n",
    "    def __init__(self) :\n",
    "        super().__init__()\n",
    "\n",
    "    def forward(self, x):\n",
    "        x_max = torch.max(x, dim = 0 ,keepdims = True)\n",
    "        x_exp = torch.exp(x - x_max.values)\n",
    "        partition = x_exp.sum (0, keepdims = True)\n",
    "        return x_exp / partition\n",
    "\n",
    "data = torch.Tensor([1, 2, 3])\n",
    "softmax_stable = SoftmaxStable()\n",
    "output = softmax_stable(data)\n",
    "assert round(output[ -1].item(), 2) == 0.67\n",
    "output\n"
   ]
  },
  {
   "cell_type": "markdown",
   "metadata": {},
   "source": [
    "==> B"
   ]
  },
  {
   "cell_type": "markdown",
   "metadata": {},
   "source": [
    "Câu hỏi 5: Một người (person) có thể là student, doctor, hoặc teacher. Một student gồm có name\n",
    "(string), yob (int) (năm sinh), và grade (string). Các bạn thực hiện viết class Student theo mô tả\n",
    "trên (Các bạn sẽ viết thêm describe() method để print ra tất cả thông tin của object) và kết quả\n",
    "đầu ra là gì? Chọn đáp án đúng nhất bên dưới."
   ]
  },
  {
   "cell_type": "code",
   "execution_count": 7,
   "metadata": {},
   "outputs": [
    {
     "name": "stdout",
     "output_type": "stream",
     "text": [
      "Student - Name: studentZ2023 - YoB: 2011 - Grade: 6\n"
     ]
    }
   ],
   "source": [
    "from abc import ABC , abstractmethod\n",
    "\n",
    "class Person(ABC):\n",
    "    def __init__(self, name, yob):\n",
    "        self._name = name\n",
    "        self._yob = yob\n",
    "\n",
    "    @abstractmethod\n",
    "    def describe(self):\n",
    "        pass\n",
    "    \n",
    "    def get_yob(self):\n",
    "        return self._yob\n",
    "\n",
    "\n",
    "class Student(Person):\n",
    "    def __init__(self, name, yob, grade):\n",
    "        super().__init__(name, yob)\n",
    "        self.__grade = grade\n",
    "\n",
    "    def describe(self):\n",
    "        super().describe()\n",
    "        print(\n",
    "            f'Student - Name: {self._name} - YoB: {self._yob} - Grade: {self.__grade}')\n",
    "\n",
    "student1 = Student(name = \"studentZ2023\", yob =2011 , grade =\"6\")\n",
    "assert student1._yob == 2011\n",
    "student1.describe ()\n"
   ]
  },
  {
   "cell_type": "markdown",
   "metadata": {},
   "source": [
    "==> A"
   ]
  },
  {
   "cell_type": "markdown",
   "metadata": {},
   "source": [
    "Câu hỏi 6: Một người (person) có thể là student, doctor, hoặc teacher. Một teacher gồm có name\n",
    "(string), yob (int), và subject (string). Các bạn thực hiện viết class Teacher theo mô tả trên (Các\n",
    "bạn sẽ viết thêm describe() method để print ra tất cả thông tin của object) và kết quả đầu ra là\n",
    "gì? Chọn đáp án đúng nhất bên dưới.\n"
   ]
  },
  {
   "cell_type": "code",
   "execution_count": 10,
   "metadata": {},
   "outputs": [
    {
     "name": "stdout",
     "output_type": "stream",
     "text": [
      "Teacher - Name: teacherZ2023 - YoB: 1991 - Subject: History\n"
     ]
    }
   ],
   "source": [
    "from abc import ABC , abstractmethod\n",
    "\n",
    "class Person(ABC):\n",
    "    def __init__(self, name, yob):\n",
    "        self._name = name\n",
    "        self._yob = yob\n",
    "\n",
    "    @abstractmethod\n",
    "    def describe(self):\n",
    "        pass\n",
    "    \n",
    "    def get_yob(self):\n",
    "        return self._yob\n",
    "    \n",
    "class Teacher(Person):\n",
    "    def __init__(self, name, yob, subject):\n",
    "        super().__init__(name, yob)\n",
    "        self.__subject = subject\n",
    "\n",
    "    def describe(self):\n",
    "        super().describe()\n",
    "        print(\n",
    "            f'Teacher - Name: {self._name} - YoB: {self._yob} - Subject: {self.__subject}')\n",
    "\n",
    "teacher1 = Teacher(name =\"teacherZ2023\", yob =1991 , subject =\"History\")\n",
    "assert teacher1._yob == 1991\n",
    "teacher1.describe ()"
   ]
  },
  {
   "cell_type": "markdown",
   "metadata": {},
   "source": [
    "==> B"
   ]
  },
  {
   "cell_type": "markdown",
   "metadata": {},
   "source": [
    "Câu hỏi 7: Một người (person) có thể là student, doctor, hoặc teacher. Một doctor gồm có name\n",
    "(string), yob (string), và specialist (string). Các bạn thực hiện viết class Teacher theo mô tả trên\n",
    "(Các bạn sẽ viết thêm describe() method để print ra tất cả thông tin của object) và kết quả đầu\n",
    "ra là gì? Chọn đáp án đúng nhất bên dưới.\n"
   ]
  },
  {
   "cell_type": "code",
   "execution_count": 12,
   "metadata": {},
   "outputs": [
    {
     "name": "stdout",
     "output_type": "stream",
     "text": [
      "Doctor - Name: doctorZ2023 - YoB: 1981 - Specialist: Endocrinologists \n"
     ]
    }
   ],
   "source": [
    "from abc import ABC , abstractmethod\n",
    "\n",
    "class Person(ABC):\n",
    "    def __init__(self, name, yob):\n",
    "        self._name = name\n",
    "        self._yob = yob\n",
    "\n",
    "    @abstractmethod\n",
    "    def describe(self):\n",
    "        pass\n",
    "    \n",
    "    def get_yob(self):\n",
    "        return self._yob\n",
    "\n",
    "class Doctor(Person):\n",
    "    def __init__(self, name, yob, specialist):\n",
    "        super().__init__(name, yob)\n",
    "        self.__specialist = specialist\n",
    "\n",
    "    def describe(self):\n",
    "        super().describe()\n",
    "        print(\n",
    "            f'Doctor - Name: {self._name} - YoB: {self._yob} - Specialist: {self.__specialist}')\n",
    "\n",
    "doctor1 = Doctor(name =\"doctorZ2023\", yob = 1981 , specialist =\"Endocrinologists \")\n",
    "assert doctor1._yob == 1981\n",
    "doctor1.describe ()\n"
   ]
  },
  {
   "cell_type": "markdown",
   "metadata": {},
   "source": [
    "==> A"
   ]
  },
  {
   "cell_type": "markdown",
   "metadata": {},
   "source": [
    "Câu hỏi 8 Một Ward gồm có name (string) và danh sách của mọi người trong Ward. Một người\n",
    "person có thể là student, doctor, hoặc teacher và cần sử dụng một list để chứa danh sách của mọi\n",
    "người trong Ward. Viết add_person(person) method trong Ward class để add thêm một người\n",
    "mới với nghề nghiệp bất kỳ (student, teacher, doctor) vào danh sách người của ward. Tạo ra một\n",
    "ward object, và thêm vào 1 student, 2 teacher, và 2 doctor. Thực hiện describe() method để in ra\n",
    "tên ward (name) và toàn bộ thông tin của từng người trong ward. Chọn đáp án đúng nhất bên\n",
    "dưới cho phương thức đếm số lượng doctor.\n"
   ]
  },
  {
   "cell_type": "code",
   "execution_count": 15,
   "metadata": {},
   "outputs": [
    {
     "data": {
      "text/plain": [
       "2"
      ]
     },
     "execution_count": 15,
     "metadata": {},
     "output_type": "execute_result"
    }
   ],
   "source": [
    "class Ward:\n",
    "    def __init__(self, name):\n",
    "        self.__name = name\n",
    "        self.__list_people = list()\n",
    "\n",
    "    def add_person(self, person: Person):\n",
    "        self.__list_people.append(person)\n",
    "\n",
    "    def describe(self):\n",
    "        print(f'Name: {self.__name}')\n",
    "        for p in self.__list_people:\n",
    "            p.describe()\n",
    "\n",
    "    def count_doctor(self):\n",
    "        counter = 0\n",
    "        for p in self.__list_people:\n",
    "            if isinstance(p, Doctor):\n",
    "                counter += 1\n",
    "        return counter\n",
    "\n",
    "student1 = Student( name =\" studentA\", yob =2010 , grade =\"7\")\n",
    "teacher1 = Teacher( name =\" teacherA\", yob =1969 , subject =\"Math\")\n",
    "teacher2 = Teacher( name =\" teacherB\", yob =1995 , subject =\"History\")\n",
    "doctor1 = Doctor( name =\"doctorA\", yob =1945 , specialist =\"Endocrinologists\")\n",
    "#assert ward1.count_doctor() == 1\n",
    "doctor2 = Doctor(name =\"doctorB\", yob =1975, specialist =\"Cardiologists\")\n",
    "ward1 = Ward(name =\" Ward1 \")\n",
    "ward1.add_person(student1)\n",
    "ward1.add_person(teacher1)\n",
    "ward1.add_person(teacher2)\n",
    "ward1.add_person(doctor1)\n",
    "ward1.add_person(doctor2)\n",
    "ward1.count_doctor()\n"
   ]
  },
  {
   "cell_type": "markdown",
   "metadata": {},
   "source": [
    "==> C"
   ]
  },
  {
   "cell_type": "markdown",
   "metadata": {},
   "source": [
    "Câu hỏi 9 Thực hiện xây dựng class Stack với các chức năng (method) sau đây: initial- ization\n",
    "method nhận một input \"capacity\": dùng để khởi tạo stack với capacity là số lượng element mà\n",
    "stack có thể chứa. .is_full(): kiểm tra stack đã full chưa. .push(value) add thêm value vào trong\n",
    "stack. Kết quả đầu ra là gì?\n"
   ]
  },
  {
   "cell_type": "code",
   "execution_count": 16,
   "metadata": {},
   "outputs": [
    {
     "name": "stdout",
     "output_type": "stream",
     "text": [
      "False\n"
     ]
    }
   ],
   "source": [
    "class MyStack():\n",
    "    def __init__(self, capacity):\n",
    "        self.__capacity = capacity\n",
    "        self.__stack = []\n",
    "    \n",
    "    def is_empty(self):\n",
    "        return len(self.__stack) == 0\n",
    "    \n",
    "    def is_full(self):\n",
    "        return len(self.__stack) == self.__capacity\n",
    "    \n",
    "    def push(self, value):\n",
    "        if self.is_full():\n",
    "            raise Exception('The stack is full!')\n",
    "        self.__stack.append(value)\n",
    "\n",
    "\n",
    "stack1 = MyStack(capacity =5)\n",
    "stack1.push(1)\n",
    "assert stack1.is_full() == False\n",
    "stack1.push(2)\n",
    "print(stack1.is_full())\n",
    "\n"
   ]
  },
  {
   "cell_type": "markdown",
   "metadata": {},
   "source": [
    "==> B"
   ]
  },
  {
   "cell_type": "markdown",
   "metadata": {},
   "source": [
    "Câu hỏi 10: Thực hiện xây dựng class Stack với các chức năng (method) sau đây: initialization\n",
    "method nhận một input \"capacity\", dùng để khởi tạo stack với capacity là số lượng element mà\n",
    "stack có thể chứa. Phương thức is_empty(): kiểm tra stack có đang rỗng. Phương thức is_full():\n",
    "kiểm tra stack đã full chưa. Phương thức push(value) add thêm value vào trong stack. Phương\n",
    "thức top() lấy giá trị top element hiện tại của stack, nhưng không loại bỏ giá trị đó. Kết quả đầu\n",
    "ra là gì?\n"
   ]
  },
  {
   "cell_type": "code",
   "execution_count": 18,
   "metadata": {},
   "outputs": [
    {
     "name": "stdout",
     "output_type": "stream",
     "text": [
      "2\n"
     ]
    }
   ],
   "source": [
    "class MyStack():\n",
    "    def __init__(self, capacity):\n",
    "        self.__capacity = capacity\n",
    "        self.__stack = []\n",
    "    \n",
    "    def is_empty(self):\n",
    "        return len(self.__stack) == 0\n",
    "    \n",
    "    def is_full(self):\n",
    "        return len(self.__stack) == self.__capacity\n",
    "    \n",
    "    def push(self, value):\n",
    "        if self.is_full():\n",
    "            raise Exception('The stack is full!')\n",
    "        self.__stack.append(value)\n",
    "    \n",
    "    def top(self):\n",
    "        if self.is_empty():\n",
    "            raise Exception('The stack is empty!')\n",
    "        return self.__stack[-1]\n",
    "\n",
    "\n",
    "stack1 = MyStack(capacity = 5)\n",
    "stack1.push (1)\n",
    "assert stack1.is_full() == False\n",
    "stack1.push (2)\n",
    "print(stack1.top())\n",
    "\n"
   ]
  },
  {
   "cell_type": "markdown",
   "metadata": {},
   "source": [
    "==> B"
   ]
  },
  {
   "cell_type": "markdown",
   "metadata": {},
   "source": [
    "Câu hỏi 11: Thực hiện xây dựng class Queue với các chức năng (method) sau đây: initialization\n",
    "method nhận một input \"capacity\", dùng để khởi tạo queue với capacity là số lượng element mà\n",
    "queue có thể chứa. Phương thức is_full(): kiểm tra queue đã full chưa. Phương thức enqueue(value)\n",
    "add thêm value vào trong queue. Kết quả đầu ra là gì?\n"
   ]
  },
  {
   "cell_type": "code",
   "execution_count": 19,
   "metadata": {},
   "outputs": [
    {
     "name": "stdout",
     "output_type": "stream",
     "text": [
      "False\n"
     ]
    }
   ],
   "source": [
    "class MyQueue:\n",
    "    def __init__(self, capacity):\n",
    "        self.__capacity = capacity\n",
    "        self.__queue = []\n",
    "    \n",
    "    def is_empty(self):\n",
    "        return len(self.__queue) == 0\n",
    "    \n",
    "    def is_full(self):\n",
    "        return len(self.__queue) == self.__capacity\n",
    "    \n",
    "    def enqueue(self, value):\n",
    "        if self.is_full():\n",
    "            raise Exception('Overflow')\n",
    "        self.__queue.append(value)\n",
    "\n",
    "queue1 = MyQueue(capacity = 5)\n",
    "queue1.enqueue(1)\n",
    "assert queue1.is_full() == False\n",
    "queue1.enqueue(2)\n",
    "print(queue1.is_full () )"
   ]
  },
  {
   "cell_type": "markdown",
   "metadata": {},
   "source": [
    "==> A"
   ]
  },
  {
   "cell_type": "markdown",
   "metadata": {},
   "source": [
    "Câu hỏi 12: Thực hiện xây dựng class Queue với các chức năng (method) sau đây: initialization\n",
    "method nhận một input \"capacity\" dùng để khởi tạo queue với capacity là số lượng element mà\n",
    "queue có thể chứa. Phương thức is_full(): kiểm tra queue đã full chưa. Phương thức enqueue(value)\n",
    "add thêm value vào trong queue. Phương thức front() lấy giá trị first element hiện tại của queue,\n",
    "nhưng không loại bỏ giá trị đó. Kết quả đầu ra là gì?\n"
   ]
  },
  {
   "cell_type": "code",
   "execution_count": 20,
   "metadata": {},
   "outputs": [],
   "source": [
    "class MyQueue:\n",
    "    def __init__(self, capacity):\n",
    "        self.__capacity = capacity\n",
    "        self.__queue = []\n",
    "    \n",
    "    def is_empty(self):\n",
    "        return len(self.__queue) == 0\n",
    "    \n",
    "    def is_full(self):\n",
    "        return len(self.__queue) == self.__capacity\n",
    "    \n",
    "    def enqueue(self, value):\n",
    "        if self.is_full():\n",
    "            raise Exception('Overflow')\n",
    "        self.__queue.append(value)\n",
    "    \n",
    "    def dequeue(self):\n",
    "        if self.is_empty():\n",
    "            raise Exception('Underflow')\n",
    "        return self.__queue.pop(0)\n",
    "    \n",
    "    def front(self):\n",
    "        if self.is_empty():\n",
    "            raise Exception('Underflow')\n",
    "        return self.__queue[0]"
   ]
  },
  {
   "cell_type": "code",
   "execution_count": 21,
   "metadata": {},
   "outputs": [
    {
     "name": "stdout",
     "output_type": "stream",
     "text": [
      "1\n"
     ]
    }
   ],
   "source": [
    "queue1 = MyQueue(capacity = 5)\n",
    "queue1.enqueue(1)\n",
    "assert queue1.is_full() == False\n",
    "queue1.enqueue(2)\n",
    "print(queue1.front())\n"
   ]
  },
  {
   "cell_type": "markdown",
   "metadata": {},
   "source": [
    "==> D"
   ]
  },
  {
   "cell_type": "markdown",
   "metadata": {},
   "source": []
  }
 ],
 "metadata": {
  "kernelspec": {
   "display_name": "anhHop",
   "language": "python",
   "name": "python3"
  },
  "language_info": {
   "codemirror_mode": {
    "name": "ipython",
    "version": 3
   },
   "file_extension": ".py",
   "mimetype": "text/x-python",
   "name": "python",
   "nbconvert_exporter": "python",
   "pygments_lexer": "ipython3",
   "version": "3.11.5"
  }
 },
 "nbformat": 4,
 "nbformat_minor": 2
}
