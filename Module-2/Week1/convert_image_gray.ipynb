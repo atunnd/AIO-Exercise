{
  "cells": [
    {
      "cell_type": "code",
      "execution_count": 1,
      "metadata": {
        "colab": {
          "base_uri": "https://localhost:8080/"
        },
        "id": "pcH-_cWyugW-",
        "outputId": "ff986650-f0d1-4ceb-9b27-9009cbf7af7f"
      },
      "outputs": [
        {
          "name": "stdout",
          "output_type": "stream",
          "text": [
            "Downloading...\n",
            "From: https://drive.google.com/uc?id=1i9dqan21DjQoG5Q_VEvm0LrVwAlXD0vB\n",
            "To: /content/dog.jpeg\n",
            "\r  0% 0.00/33.7k [00:00<?, ?B/s]\r100% 33.7k/33.7k [00:00<00:00, 65.3MB/s]\n"
          ]
        }
      ],
      "source": [
        "!gdown 1i9dqan21DjQoG5Q_VEvm0LrVwAlXD0vB"
      ]
    },
    {
      "cell_type": "markdown",
      "metadata": {
        "id": "8SZ_cqgovLm7"
      },
      "source": [
        "### Convert to gray image by Lightness"
      ]
    },
    {
      "cell_type": "code",
      "execution_count": 4,
      "metadata": {
        "colab": {
          "base_uri": "https://localhost:8080/"
        },
        "id": "5jHj_upyupkL",
        "outputId": "2150f880-4bb2-4c52-c505-48041cdbc71c"
      },
      "outputs": [
        {
          "data": {
            "text/plain": [
              "102.5"
            ]
          },
          "execution_count": 4,
          "metadata": {},
          "output_type": "execute_result"
        }
      ],
      "source": [
        "import matplotlib.image as mpimg\n",
        "import numpy as np\n",
        "\n",
        "img = mpimg.imread('/content/dog.jpeg')\n",
        "gray_img_01 = (np.max(img, axis=2) + np.min(img, axis=2))/2\n",
        "gray_img_01[0 , 0]"
      ]
    },
    {
      "cell_type": "markdown",
      "metadata": {
        "id": "TpRcVQrCvXMx"
      },
      "source": [
        "### Convert to gray by Average"
      ]
    },
    {
      "cell_type": "code",
      "execution_count": 7,
      "metadata": {
        "colab": {
          "base_uri": "https://localhost:8080/"
        },
        "id": "X8LCagSxu61V",
        "outputId": "af4d6f8d-d6e7-4f40-d45d-cf5761b89843"
      },
      "outputs": [
        {
          "data": {
            "text/plain": [
              "107.66666666666667"
            ]
          },
          "execution_count": 7,
          "metadata": {},
          "output_type": "execute_result"
        }
      ],
      "source": [
        "import matplotlib.image as mpimg\n",
        "import numpy as np\n",
        "\n",
        "img = mpimg.imread('/content/dog.jpeg')\n",
        "gray_img_02 = np.mean(img, axis=2)\n",
        "gray_img_02[0 , 0]"
      ]
    },
    {
      "cell_type": "markdown",
      "metadata": {
        "id": "GGfELiJdvm0T"
      },
      "source": [
        "### Convert to gray by Luminosity"
      ]
    },
    {
      "cell_type": "code",
      "execution_count": 8,
      "metadata": {
        "colab": {
          "base_uri": "https://localhost:8080/"
        },
        "id": "Oq163odQvi_t",
        "outputId": "829be796-2f6a-4c26-a71e-d963bfe300d4"
      },
      "outputs": [
        {
          "data": {
            "text/plain": [
              "118.78999999999999"
            ]
          },
          "execution_count": 8,
          "metadata": {},
          "output_type": "execute_result"
        }
      ],
      "source": [
        "import matplotlib.image as mpimg\n",
        "import numpy as np\n",
        "\n",
        "img = mpimg.imread('/content/dog.jpeg')\n",
        "gray_img_03 = 0.21 * img[0] + 0.72 * img[1] + 0.07 * img[2]\n",
        "gray_img_03[0 , 0]"
      ]
    }
  ],
  "metadata": {
    "colab": {
      "provenance": []
    },
    "kernelspec": {
      "display_name": "Python 3",
      "name": "python3"
    },
    "language_info": {
      "codemirror_mode": {
        "name": "ipython",
        "version": 3
      },
      "file_extension": ".py",
      "mimetype": "text/x-python",
      "name": "python",
      "nbconvert_exporter": "python",
      "pygments_lexer": "ipython3",
      "version": "3.11.5"
    }
  },
  "nbformat": 4,
  "nbformat_minor": 0
}
