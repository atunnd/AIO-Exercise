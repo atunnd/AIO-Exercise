{
 "cells": [
  {
   "cell_type": "code",
   "execution_count": 1,
   "metadata": {},
   "outputs": [],
   "source": [
    "import numpy as np\n"
   ]
  },
  {
   "cell_type": "markdown",
   "metadata": {},
   "source": [
    "### Length of a vector"
   ]
  },
  {
   "cell_type": "code",
   "execution_count": 4,
   "metadata": {},
   "outputs": [
    {
     "name": "stdout",
     "output_type": "stream",
     "text": [
      "Length of the vector [-2  4  9 21] is 23.28\n"
     ]
    }
   ],
   "source": [
    "def compute_vector_length(vector):\n",
    "    len_vector = np.linalg.norm(vector)\n",
    "    return len_vector\n",
    "\n",
    "vector = np.array([-2, 4, 9, 21])\n",
    "result = compute_vector_length(vector)\n",
    "print(f'Length of the vector {vector} is {np.round(result,2)}')"
   ]
  },
  {
   "cell_type": "markdown",
   "metadata": {},
   "source": [
    "### Dot product\n"
   ]
  },
  {
   "cell_type": "code",
   "execution_count": 5,
   "metadata": {},
   "outputs": [
    {
     "name": "stdout",
     "output_type": "stream",
     "text": [
      "Dot product of [ 0  1 -1  2] and [2 5 1 0] is 4\n"
     ]
    }
   ],
   "source": [
    "def compute_dot_product(vector1, vector2):\n",
    "    result = np.linalg.multi_dot([vector1, vector2])\n",
    "    return result\n",
    "\n",
    "v1 = np.array([0, 1, -1, 2])\n",
    "v2 = np.array([2, 5, 1, 0])\n",
    "result2 = compute_dot_product(v1, v2)\n",
    "print(f'Dot product of {v1} and {v2} is {result2}')"
   ]
  },
  {
   "cell_type": "markdown",
   "metadata": {},
   "source": [
    "###  Multiplying a vector by a matrix"
   ]
  },
  {
   "cell_type": "code",
   "execution_count": 6,
   "metadata": {},
   "outputs": [
    {
     "name": "stdout",
     "output_type": "stream",
     "text": [
      "The result of mutiplying [[1 2]\n",
      " [3 4]] by [1 2] is [ 5 11]\n"
     ]
    }
   ],
   "source": [
    "def matrix_multi_vector(matrix, vector):\n",
    "    result = np.linalg.multi_dot([matrix, vector])\n",
    "    return result\n",
    "\n",
    "x = np.array([[1, 2],\n",
    "                  [3, 4]])\n",
    "k = np.array([1, 2])\n",
    "result3 = matrix_multi_vector(x, k)\n",
    "print(f'The result of mutiplying {x} by {k} is {result3}')"
   ]
  },
  {
   "cell_type": "markdown",
   "metadata": {},
   "source": [
    "### Multiplying a matrix by a matrix\n"
   ]
  },
  {
   "cell_type": "code",
   "execution_count": 7,
   "metadata": {},
   "outputs": [
    {
     "name": "stdout",
     "output_type": "stream",
     "text": [
      "The result of matrix [[ 0  1  2]\n",
      " [ 2 -3  1]] multiplying matrix [[ 1 -3]\n",
      " [ 6  1]\n",
      " [ 0 -1]] is [[  6  -1]\n",
      " [-16 -10]]\n"
     ]
    }
   ],
   "source": [
    "def matrix_multi_matrix(matrix1, matrix2):\n",
    "    result = np.dot(matrix1, matrix2)\n",
    "    return result\n",
    "\n",
    "m1 = np.array([[0, 1, 2], [2, -3, 1]])\n",
    "m2 = np.array([[1, -3],[6, 1], [0, -1]])\n",
    "result4 = matrix_multi_matrix(m1, m2)\n",
    "print(f'The result of matrix {m1} multiplying matrix {m2} is {result4}')"
   ]
  },
  {
   "cell_type": "markdown",
   "metadata": {},
   "source": [
    "### Matrix inverse"
   ]
  },
  {
   "cell_type": "markdown",
   "metadata": {},
   "source": [
    "A = [[-2 6]\n",
    "     [8 -4]]\n",
    "\n",
    "det(A) = ad - bc = (-2)(-4) - 8.6 = 8 - 48 = -40\n",
    "\n",
    "det(A) != 0 => A is invertible\n",
    "\n",
    "A^(-1) = 1/det(A) * ([[-4 -6][-8 -2]]) = [[4/40 6/40][8/40 2/40]] = [[1/10 3/20][1/5 1/20]] = [[0.1 0.15][0.2 0.05]]"
   ]
  },
  {
   "cell_type": "code",
   "execution_count": 17,
   "metadata": {},
   "outputs": [
    {
     "name": "stdout",
     "output_type": "stream",
     "text": [
      "The inverse matrix of [[-2  6]\n",
      " [ 8 -4]] is [[0.1  0.15]\n",
      " [0.2  0.05]]\n"
     ]
    }
   ],
   "source": [
    "def inverse_matrix(matrix):\n",
    "    result = np.linalg.inv(matrix)\n",
    "    return result\n",
    "\n",
    "m3 = np.array([[-2, 6], [8, -4]])\n",
    "result4 = inverse_matrix(m3)\n",
    "print(f'The inverse matrix of {m3} is {result4}')"
   ]
  },
  {
   "cell_type": "markdown",
   "metadata": {},
   "source": []
  }
 ],
 "metadata": {
  "kernelspec": {
   "display_name": "anhHop",
   "language": "python",
   "name": "python3"
  },
  "language_info": {
   "codemirror_mode": {
    "name": "ipython",
    "version": 3
   },
   "file_extension": ".py",
   "mimetype": "text/x-python",
   "name": "python",
   "nbconvert_exporter": "python",
   "pygments_lexer": "ipython3",
   "version": "3.11.5"
  }
 },
 "nbformat": 4,
 "nbformat_minor": 2
}
