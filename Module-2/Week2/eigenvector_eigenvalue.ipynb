{
 "cells": [
  {
   "cell_type": "code",
   "execution_count": 1,
   "metadata": {},
   "outputs": [],
   "source": [
    "import numpy as np"
   ]
  },
  {
   "cell_type": "markdown",
   "metadata": {},
   "source": [
    "A = [[0.9 0.2]\n",
    "     [0.1 0.8]]\n",
    "\n",
    "Finding Eigenvalue(Lambda):\n",
    "\n",
    "det(A - lambda*I) = 0 <=>  (0.9 - lambda)(0.8 - lambda) * 0.2 * 0.1= 0\n",
    " => lambda = 1 or lambda = 0.7\n",
    "\n",
    "Finding Eigenvector(v)\n",
    "\n",
    "[[0.8 0.2][0.1 0.7]] * [x, y] = 0 => Many possible variables that satisfies the x = 2y."
   ]
  },
  {
   "cell_type": "code",
   "execution_count": 3,
   "metadata": {},
   "outputs": [
    {
     "name": "stdout",
     "output_type": "stream",
     "text": [
      "[1.  0.7]\n",
      "[[ 0.89442719 -0.70710678]\n",
      " [ 0.4472136   0.70710678]]\n"
     ]
    }
   ],
   "source": [
    "def compute_eigenvalues_eigenvectors(matrix):\n",
    "  eigenvalues, eigenvectors = np.linalg.eig(matrix)\n",
    "  return eigenvalues,eigenvectors\n",
    "\n",
    "matrix = np.array([[0.9, 0.2], [0.1, 0.8]])\n",
    "eigenvalues, eigenvectors = compute_eigenvalues_eigenvectors(matrix)\n",
    "print(eigenvalues)\n",
    "print(eigenvectors)"
   ]
  },
  {
   "cell_type": "code",
   "execution_count": null,
   "metadata": {},
   "outputs": [],
   "source": []
  }
 ],
 "metadata": {
  "kernelspec": {
   "display_name": "anhHop",
   "language": "python",
   "name": "python3"
  },
  "language_info": {
   "codemirror_mode": {
    "name": "ipython",
    "version": 3
   },
   "file_extension": ".py",
   "mimetype": "text/x-python",
   "name": "python",
   "nbconvert_exporter": "python",
   "pygments_lexer": "ipython3",
   "version": "3.11.5"
  }
 },
 "nbformat": 4,
 "nbformat_minor": 2
}
