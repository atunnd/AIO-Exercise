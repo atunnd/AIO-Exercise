{
 "cells": [
  {
   "cell_type": "code",
   "execution_count": 2,
   "metadata": {},
   "outputs": [],
   "source": [
    "import numpy as np"
   ]
  },
  {
   "cell_type": "markdown",
   "metadata": {},
   "source": [
    "x = [1 2 3 4], y = [1 0 3 0]\n",
    "\n",
    "length of x = (30)^6(1/2) = 5.47\n",
    "\n",
    "length of y = (10)^(1/2) = 3.16\n",
    "\n",
    "cs(x, y) = (1* 1+2* 0+3* 3+4* 0)/(5.47 * 3.16) = 0.57"
   ]
  },
  {
   "cell_type": "code",
   "execution_count": 4,
   "metadata": {},
   "outputs": [],
   "source": [
    "def compute_dot_product(vector1, vector2):\n",
    "    result = np.linalg.multi_dot([vector1, vector2])\n",
    "    return result\n",
    "\n",
    "def compute_vector_length(vector):\n",
    "    len_vector = np.linalg.norm(vector)\n",
    "    return len_vector\n",
    "\n",
    "def compute_cosine(v1, v2):\n",
    "  cos_sim = compute_dot_product(v1,v2) / (compute_vector_length(v1)*compute_vector_length(v2))\n",
    "\n",
    "  return cos_sim"
   ]
  },
  {
   "cell_type": "code",
   "execution_count": 5,
   "metadata": {},
   "outputs": [
    {
     "name": "stdout",
     "output_type": "stream",
     "text": [
      "0.577\n"
     ]
    }
   ],
   "source": [
    "x = np.array([1, 2, 3, 4])\n",
    "y = np.array([1, 0, 3, 0])\n",
    "result = compute_cosine(x,y)\n",
    "print(round(result, 3))"
   ]
  }
 ],
 "metadata": {
  "kernelspec": {
   "display_name": "anhHop",
   "language": "python",
   "name": "python3"
  },
  "language_info": {
   "codemirror_mode": {
    "name": "ipython",
    "version": 3
   },
   "file_extension": ".py",
   "mimetype": "text/x-python",
   "name": "python",
   "nbconvert_exporter": "python",
   "pygments_lexer": "ipython3",
   "version": "3.11.5"
  }
 },
 "nbformat": 4,
 "nbformat_minor": 2
}
