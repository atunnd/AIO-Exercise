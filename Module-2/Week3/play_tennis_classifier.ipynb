{
 "cells": [
  {
   "cell_type": "code",
   "execution_count": 1,
   "metadata": {},
   "outputs": [],
   "source": [
    "import numpy as np"
   ]
  },
  {
   "cell_type": "code",
   "execution_count": 19,
   "metadata": {},
   "outputs": [
    {
     "name": "stdout",
     "output_type": "stream",
     "text": [
      "[['Sunny' 'Hot' 'High' 'Weak' 'no']\n",
      " ['Sunny' 'Hot' 'High' 'Strong' 'no']\n",
      " ['Overcast' 'Hot' 'High' 'Weak' 'yes']\n",
      " ['Rain' 'Mild' 'High' 'Weak' 'yes']\n",
      " ['Rain' 'Cool' 'Normal' 'Weak' 'yes']\n",
      " ['Rain' 'Cool' 'Normal' 'Strong' 'no']\n",
      " ['Overcast' 'Cool' 'Normal' 'Strong' 'yes']\n",
      " ['Overcast' 'Mild' 'High' 'Weak' 'no']\n",
      " ['Sunny' 'Cool' 'Normal' 'Weak' 'yes']\n",
      " ['Rain' 'Mild' 'Normal' 'Weak' 'yes']]\n"
     ]
    }
   ],
   "source": [
    "def create_train_data():\n",
    "    data = [['Sunny', 'Hot', 'High', 'Weak', 'no'],\n",
    "            ['Sunny', 'Hot', 'High', 'Strong', 'no'],\n",
    "            ['Overcast', 'Hot', 'High', 'Weak', 'yes'],\n",
    "            ['Rain', 'Mild', 'High', 'Weak', 'yes'],\n",
    "            ['Rain', 'Cool','Normal', 'Weak', 'yes'],\n",
    "            ['Rain', 'Cool', 'Normal', 'Strong', 'no'],\n",
    "            ['Overcast', 'Cool', 'Normal', 'Strong', 'yes'],\n",
    "            ['Overcast', 'Mild', 'High', 'Weak', 'no'],\n",
    "            ['Sunny', 'Cool', 'Normal', 'Weak', 'yes'],\n",
    "            ['Rain', 'Mild', 'Normal', 'Weak', 'yes']]\n",
    "\n",
    "    return np.array(data)\n",
    "\n",
    "train_data = create_train_data()\n",
    "print(train_data)"
   ]
  },
  {
   "cell_type": "code",
   "execution_count": 35,
   "metadata": {},
   "outputs": [
    {
     "name": "stdout",
     "output_type": "stream",
     "text": [
      "P(play tennis = No) =  0.4\n",
      "P(play tennis = Yes) =  0.6\n"
     ]
    }
   ],
   "source": [
    "def compute_prior_probability(train_data):\n",
    "    y_unique = ['no', 'yes']\n",
    "    prior_probability = np.zeros(len(y_unique))\n",
    "    count = {'yes': 0, 'no': 0}\n",
    "    for i in train_data[:, -1]:\n",
    "        if i == 'yes':\n",
    "            count['yes'] += 1\n",
    "        else:\n",
    "            count['no'] += 1\n",
    "    prior_probability[0] = count['no']/len(train_data[:, -1])\n",
    "    prior_probability[1] = count['yes']/len(train_data[:, -1])\n",
    "\n",
    "    return prior_probability\n",
    "\n",
    "prior_probablity = compute_prior_probability(train_data)\n",
    "print (\"P(play tennis = No) = \" , prior_probablity[0])\n",
    "print (\"P(play tennis = Yes) = \" , prior_probablity[1])\n"
   ]
  },
  {
   "cell_type": "code",
   "execution_count": 79,
   "metadata": {},
   "outputs": [
    {
     "data": {
      "text/plain": [
       "4"
      ]
     },
     "execution_count": 79,
     "metadata": {},
     "output_type": "execute_result"
    }
   ],
   "source": [
    "train_data.shape[1] - 1"
   ]
  },
  {
   "cell_type": "code",
   "execution_count": 141,
   "metadata": {},
   "outputs": [
    {
     "data": {
      "text/plain": [
       "6"
      ]
     },
     "execution_count": 141,
     "metadata": {},
     "output_type": "execute_result"
    }
   ],
   "source": [
    "a = np.where(train_data[:,-1]=='yes')[0]\n",
    "len(a)"
   ]
  },
  {
   "cell_type": "code",
   "execution_count": 146,
   "metadata": {},
   "outputs": [
    {
     "name": "stdout",
     "output_type": "stream",
     "text": [
      "x1 =  ['Overcast' 'Rain' 'Sunny']\n",
      "x2 =  ['Cool' 'Hot' 'Mild']\n",
      "x3 =  ['High' 'Normal']\n",
      "x4 =  ['Strong' 'Weak']\n"
     ]
    }
   ],
   "source": [
    "def compute_conditional_probability(train_data):\n",
    "    y_unique = ['no', 'yes']\n",
    "    conditional_probability = []\n",
    "    list_x_name = []\n",
    "    \n",
    "    for i in range(0, train_data.shape[1] - 1):\n",
    "        x_unique = np.unique(train_data[:, i])\n",
    "        list_x_name.append(x_unique)\n",
    "        x_conditional_probability = []\n",
    "        \n",
    "        for y in y_unique:\n",
    "            prob_each_y = []\n",
    "            for x in x_unique:\n",
    "                count_x = np.where((train_data[:,i]==x) & (train_data[:,-1]==y))[0]\n",
    "                count_y = np.where(train_data[:,-1]==y)[0]\n",
    "                prob_each_y.append(len(count_x)/len(count_y))\n",
    "            x_conditional_probability.append(prob_each_y)\n",
    "        \n",
    "        \n",
    "        conditional_probability.append(x_conditional_probability)\n",
    "        \n",
    "    \n",
    "    return conditional_probability, list_x_name\n",
    "\n",
    "train_data = create_train_data()\n",
    "_, list_x_name = compute_conditional_probability(train_data)\n",
    "print('x1 = ', list_x_name[0])\n",
    "print('x2 = ', list_x_name[1])\n",
    "print('x3 = ', list_x_name[2])\n",
    "print('x4 = ', list_x_name[3])"
   ]
  },
  {
   "cell_type": "code",
   "execution_count": 148,
   "metadata": {},
   "outputs": [],
   "source": [
    "def get_index_from_value(feature_name, list_features):\n",
    "    return np.where(list_features == feature_name)[0][0]"
   ]
  },
  {
   "cell_type": "code",
   "execution_count": 147,
   "metadata": {},
   "outputs": [
    {
     "name": "stdout",
     "output_type": "stream",
     "text": [
      "0 1\n"
     ]
    }
   ],
   "source": [
    "train_data = create_train_data()\n",
    "prob , list_x_name = compute_conditional_probability(train_data)\n",
    "outlook = list_x_name[3]\n",
    "\n",
    "i1 = get_index_from_value(\"Strong\", outlook )\n",
    "i2 = get_index_from_value('Weak', outlook)\n",
    "print(i1, i2)"
   ]
  },
  {
   "cell_type": "code",
   "execution_count": 150,
   "metadata": {},
   "outputs": [
    {
     "name": "stdout",
     "output_type": "stream",
     "text": [
      "2\n",
      "P('Outlook'= 'Sunny'| 'Play Tennis' = 'Yes') =  0.17\n"
     ]
    }
   ],
   "source": [
    "train_data = create_train_data()\n",
    "conditional_probability, list_x_name = compute_conditional_probability(train_data)\n",
    "# Compute P(\" Outlook \"=\" Sunny \"| Play Tennis \"=\" Yes \")\n",
    "x1 = get_index_from_value (\"Sunny\", list_x_name[0])\n",
    "print(x1)\n",
    "print (\"P('Outlook'= 'Sunny'| 'Play Tennis' = 'Yes') = \", np.round(conditional_probability[0][1][x1], 2))\n"
   ]
  },
  {
   "cell_type": "code",
   "execution_count": 161,
   "metadata": {},
   "outputs": [
    {
     "name": "stdout",
     "output_type": "stream",
     "text": [
      "P('Outlook'= 'Sunny'| 'Play Tennis'= 'No') =  0.5\n"
     ]
    }
   ],
   "source": [
    "train_data = create_train_data()\n",
    "conditional_probability, list_x_name = compute_conditional_probability(train_data)\n",
    "# Compute P(\" Outlook \"=\" Sunny \"| Play Tennis \"=\" No \")\n",
    "x1 = get_index_from_value (\"Sunny\", list_x_name[0])\n",
    "print(\"P('Outlook'= 'Sunny'| 'Play Tennis'= 'No') = \", np.round(conditional_probability[0][0][x1], 2))\n"
   ]
  },
  {
   "cell_type": "code",
   "execution_count": 179,
   "metadata": {},
   "outputs": [],
   "source": [
    "def train_naive_bayes(train_data) :\n",
    "    # Step 1: Calculate Prior Probability\n",
    "    y_unique = ['no', 'yes']\n",
    "    prior_probability = compute_prior_probability( train_data )\n",
    "\n",
    "    # Step 2: Calculate Conditional Probability\n",
    "    conditional_probability, list_x_name = compute_conditional_probability(train_data)\n",
    "\n",
    "    return prior_probability, conditional_probability, list_x_name"
   ]
  },
  {
   "cell_type": "code",
   "execution_count": 180,
   "metadata": {},
   "outputs": [],
   "source": [
    "def prediction_play_tennis(X, list_x_name, prior_probability, conditional_probability):\n",
    "\n",
    "    x1 = get_index_from_value(X[0], list_x_name[0])\n",
    "    x2 = get_index_from_value(X[1], list_x_name[1])\n",
    "    x3 = get_index_from_value(X[2], list_x_name[2])\n",
    "    x4 = get_index_from_value(X[3], list_x_name[3])\n",
    "\n",
    "    p0 = conditional_probability[0][0][x1]*conditional_probability[1][0][x2]*conditional_probability[2][0][x3]*conditional_probability[3][0][x4]*prior_probability[0]\n",
    "    p1 = conditional_probability[0][1][x1]*conditional_probability[1][1][x2]*conditional_probability[2][1][x3]*conditional_probability[3][1][x4]*prior_probability[1]\n",
    "\n",
    "    if p0 > p1 :\n",
    "        y_pred =0\n",
    "    else:\n",
    "        y_pred =1\n",
    "\n",
    "    return y_pred"
   ]
  },
  {
   "cell_type": "code",
   "execution_count": 181,
   "metadata": {},
   "outputs": [
    {
     "name": "stdout",
     "output_type": "stream",
     "text": [
      "Ad should not go!\n"
     ]
    }
   ],
   "source": [
    "X = ['Sunny', 'Cool', 'High', 'Strong']\n",
    "data = create_train_data()\n",
    "prior_probability, conditional_probability, list_x_name = train_naive_bayes(data)\n",
    "pred = prediction_play_tennis(X, list_x_name, prior_probability, conditional_probability)\n",
    "if(pred):\n",
    "    print(\"Ad should go!\")\n",
    "else :\n",
    "    print (\"Ad should not go!\")\n"
   ]
  }
 ],
 "metadata": {
  "kernelspec": {
   "display_name": "anhHop",
   "language": "python",
   "name": "python3"
  },
  "language_info": {
   "codemirror_mode": {
    "name": "ipython",
    "version": 3
   },
   "file_extension": ".py",
   "mimetype": "text/x-python",
   "name": "python",
   "nbconvert_exporter": "python",
   "pygments_lexer": "ipython3",
   "version": "3.11.5"
  }
 },
 "nbformat": 4,
 "nbformat_minor": 2
}
